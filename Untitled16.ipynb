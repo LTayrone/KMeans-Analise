{
  "nbformat": 4,
  "nbformat_minor": 0,
  "metadata": {
    "colab": {
      "name": "Untitled16.ipynb",
      "provenance": [],
      "authorship_tag": "ABX9TyOEoqSSnXXeqzw2Mo+qJ5jO",
      "include_colab_link": true
    },
    "kernelspec": {
      "name": "python3",
      "display_name": "Python 3"
    },
    "language_info": {
      "name": "python"
    }
  },
  "cells": [
    {
      "cell_type": "markdown",
      "metadata": {
        "id": "view-in-github",
        "colab_type": "text"
      },
      "source": [
        "<a href=\"https://colab.research.google.com/github/LTayrone/KMeans-Analise/blob/main/Untitled16.ipynb\" target=\"_parent\"><img src=\"https://colab.research.google.com/assets/colab-badge.svg\" alt=\"Open In Colab\"/></a>"
      ]
    },
    {
      "cell_type": "markdown",
      "source": [
        "# **Resolução de problema de Programação Linear**"
      ],
      "metadata": {
        "id": "j97YITDdgjoy"
      }
    },
    {
      "cell_type": "markdown",
      "source": [
        "# O que é programação linear?\n",
        "A programação linear trata da maximização (ou minimização) de uma função objetivo linear, sujeita a restrições lineares, onde todas as variáveis ​​de decisão são contínuas. Ou seja, nenhuma variável discreta é permitida. O objetivo linear e as restrições devem consistir em expressões lineares."
      ],
      "metadata": {
        "id": "idcbR3AmhFuv"
      }
    },
    {
      "cell_type": "markdown",
      "source": [
        "## **Exemplo: um problema de produção** \n",
        "\n",
        "Neste tópico, você analisará um problema de produção simples em termos de variáveis ​​de decisão, função objetivo e restrições.\n",
        "\n",
        "\n",
        "### **Descrição do problema:** \n",
        "\n",
        "### **Processo de Fabricação de Aços**\n",
        "\n",
        "Uma empresa metalurgica e siderúrgica produz e vende dois tipos de cilindros de aço, ou seja, Lâminado e Trefilado.\n",
        "\n",
        "Cada tipo de cilindro é produzido e revestido pela empresa. O objetivo é maximizar o lucro, e a empresa precisa produzir pelo menos 5000 unidades de cada tipo de cilindro.\n",
        "\n",
        "Existe limites em termos de capacidade de produção da empresa, e a empresa tem que calcular o número ideal de cada tipo de cilindro para produzir, sem exceder a capacidade da fábrica.\n",
        "\n",
        "Para chegar a um modelo descritivo, considere as seguintes questões:\n",
        "\n",
        "\n",
        "\n",
        "\n",
        "*   Quais são as variáveis ​​de decisão?\n",
        "*   Qual é o objetivo?\n",
        "*   Quais são as restrições?"
      ],
      "metadata": {
        "id": "8gngUIz1hWKq"
      }
    },
    {
      "cell_type": "markdown",
      "source": [
        "Produção de cilindros: um modelo descritivo \n",
        "Um possível modelo descritivo do problema de produção de cilindros é o seguinte:\n",
        "\n",
        "### **Preço de Venda:**\n",
        "\n",
        "**LamProduction** = R$2.390\n",
        "\n",
        "**TrefProduction** = R$3.100\n",
        "\n",
        "\n",
        "### **Variáveis ​​de decisão:**\n",
        "Número de cilindros lâminados a produzir (LamProduction)\n",
        "\n",
        "Número de cilindros Trefilados produzidos (TrefProduction)\n",
        "\n",
        "### **Objetivo:** Maximizar o lucro\n",
        "\n",
        "### **Restrições:**\n",
        "\n",
        "O **LamProduction** deve ser maior ou igual a 5000.\n",
        "\n",
        "O **TrefProduction** deve ser maior ou igual a 5000.\n",
        "\n",
        "O tempo de fabricação para **LamProduction** mais o tempo de fabricação para **TrefProduction** não deve exceder 400 horas.\n",
        "\n",
        "O tempo de revestimento para **LamProduction** mais o tempo de revestimento para **TrefProduction** não deve exceder 490 horas."
      ],
      "metadata": {
        "id": "-FlJpx-PkuTf"
      }
    },
    {
      "cell_type": "code",
      "source": [
        "#instalando o IBM® Decision Optimization e o CPLEX\n",
        "!pip install cplex\n",
        "!pip install docplex"
      ],
      "metadata": {
        "colab": {
          "base_uri": "https://localhost:8080/"
        },
        "id": "nvHee9oGgwbu",
        "outputId": "e7647844-b3bd-4d85-c496-1b903ca5e677"
      },
      "execution_count": 1,
      "outputs": [
        {
          "output_type": "stream",
          "name": "stdout",
          "text": [
            "Requirement already satisfied: cplex in /usr/local/lib/python3.7/dist-packages (20.1.0.3)\n",
            "Requirement already satisfied: docplex in /usr/local/lib/python3.7/dist-packages (2.22.213)\n",
            "Requirement already satisfied: six in /usr/local/lib/python3.7/dist-packages (from docplex) (1.15.0)\n"
          ]
        }
      ]
    },
    {
      "cell_type": "code",
      "source": [
        "# importando o modelo do docplex.mp\n",
        "from docplex.mp.model import Model\n",
        "\n",
        "# creando uma instancia com o nome:\n",
        "m = Model(name='cilindro_producao')"
      ],
      "metadata": {
        "id": "wDn692Vznp1d"
      },
      "execution_count": 13,
      "outputs": []
    },
    {
      "cell_type": "code",
      "source": [
        "# por padrão todas as variaveis do Docplex tem limite inferior 0 e superior infinito\n",
        "lam = m.continuous_var(name='lam')\n",
        "tref = m.continuous_var(name='tref')"
      ],
      "metadata": {
        "id": "mDGb6Ye2n9Az"
      },
      "execution_count": 14,
      "outputs": []
    },
    {
      "cell_type": "markdown",
      "source": [
        "## **Restrições:**"
      ],
      "metadata": {
        "id": "zfOkCrtdoYv9"
      }
    },
    {
      "cell_type": "code",
      "source": [
        "# incluindo as restrições\n",
        "# restrição #1: laminado não pode ser menor que 5000\n",
        "m.add_constraint(lam >= 5000)\n",
        "\n",
        "# restrição #2: trefilado não pode ser menor que 5000\n",
        "m.add_constraint(tref >= 5000)\n",
        "\n",
        "# restrição #3: produção tempo limite\n",
        "ct_prod = m.add_constraint( 0.2 * lam + 0.4 * tref <= 400)\n",
        "\n",
        "# restrição #4: revestimento tempo limite\n",
        "ct_rev = m.add_constraint( 0.5 * lam + 0.4 * tref <= 490)"
      ],
      "metadata": {
        "id": "pqXI2MdsotRg"
      },
      "execution_count": 15,
      "outputs": []
    },
    {
      "cell_type": "markdown",
      "source": [
        "### **Objetivo:**"
      ],
      "metadata": {
        "id": "KFx8XQ8fp12b"
      }
    },
    {
      "cell_type": "code",
      "source": [
        "m.maximize(2390 * lam + 3100 * tref)\n",
        "m.print_information()"
      ],
      "metadata": {
        "colab": {
          "base_uri": "https://localhost:8080/"
        },
        "id": "Ptx3ca7pp6Jc",
        "outputId": "8c9d533f-b79e-4d98-9ae3-a47bf61160a6"
      },
      "execution_count": 16,
      "outputs": [
        {
          "output_type": "stream",
          "name": "stdout",
          "text": [
            "Model: cilindro_producao\n",
            " - number of variables: 2\n",
            "   - binary=0, integer=0, continuous=2\n",
            " - number of constraints: 4\n",
            "   - linear=4\n",
            " - parameters: defaults\n",
            " - objective: maximize\n",
            " - problem type is: LP\n"
          ]
        }
      ]
    },
    {
      "cell_type": "markdown",
      "source": [
        "### **Resolução do Modelo**"
      ],
      "metadata": {
        "id": "PKVH-wARqL53"
      }
    },
    {
      "cell_type": "code",
      "source": [
        "s = m.solve()\n",
        "m.print_solution()"
      ],
      "metadata": {
        "id": "__YrMcEaqQ8c"
      },
      "execution_count": 19,
      "outputs": []
    }
  ]
}