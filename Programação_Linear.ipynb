{
  "nbformat": 4,
  "nbformat_minor": 0,
  "metadata": {
    "colab": {
      "name": "Programação Linear.ipynb",
      "provenance": [],
      "authorship_tag": "ABX9TyOFrhgJkr4SKdPa2XQ035kk",
      "include_colab_link": true
    },
    "kernelspec": {
      "name": "python3",
      "display_name": "Python 3"
    },
    "language_info": {
      "name": "python"
    }
  },
  "cells": [
    {
      "cell_type": "markdown",
      "metadata": {
        "id": "view-in-github",
        "colab_type": "text"
      },
      "source": [
        "<a href=\"https://colab.research.google.com/github/LTayrone/KMeans-Analise/blob/main/Programa%C3%A7%C3%A3o_Linear.ipynb\" target=\"_parent\"><img src=\"https://colab.research.google.com/assets/colab-badge.svg\" alt=\"Open In Colab\"/></a>"
      ]
    },
    {
      "cell_type": "markdown",
      "source": [
        "# **Resolução de problema de Programação Linear**\n",
        "\n",
        "**Autor:  Lucas Tayrone**\n",
        "\n",
        "https://www.linkedin.com/in/lucastayrone/\n",
        "\n",
        "https://github.com/ltayrone"
      ],
      "metadata": {
        "id": "j97YITDdgjoy"
      }
    },
    {
      "cell_type": "markdown",
      "source": [
        "# O que é programação linear?\n",
        "A programação linear trata da maximização (ou minimização) de uma função objetivo linear, sujeita a restrições lineares, onde todas as variáveis ​​de decisão são contínuas. Ou seja, nenhuma variável discreta é permitida. O objetivo linear e as restrições devem consistir em expressões lineares."
      ],
      "metadata": {
        "id": "idcbR3AmhFuv"
      }
    },
    {
      "cell_type": "markdown",
      "source": [
        "## **Exemplo: um problema de produção** \n",
        "\n",
        "Neste tópico, você analisará um problema de produção simples em termos de variáveis ​​de decisão, função objetivo e restrições.\n",
        "\n",
        "\n",
        "### **Descrição do problema:** \n",
        "\n",
        "### **Processo de Fabricação de Aços**\n",
        "\n",
        "Uma Fabrica metalurgica e siderúrgica produz e vende dois tipos de cilindros de aço, ou seja, Lâminado e Trefilado.\n",
        "\n",
        "Cada tipo de cilindro é produzido e revestido pela fabrica. O objetivo é maximizar o lucro, e a fabrica precisa produzir pelo menos 5000 unidades de cada tipo de cilindro.\n",
        "\n",
        "Existe limites em termos de capacidade de produção da fabrica, e eles precisam calcular o número ideal de cada tipo de cilindro para produzir, sem exceder a capacidade da fábrica.\n",
        "\n",
        "Para chegar a um modelo descritivo, consideremos as seguintes questões:\n",
        "\n",
        "\n",
        "\n",
        "\n",
        "*   Quais são as variáveis ​​de decisão?\n",
        "*   Qual é o objetivo?\n",
        "*   Quais são as restrições?"
      ],
      "metadata": {
        "id": "8gngUIz1hWKq"
      }
    },
    {
      "cell_type": "markdown",
      "source": [
        "Produção de cilindros: um modelo descritivo \n",
        "Um possível modelo descritivo do problema de produção de cilindros é o seguinte:\n",
        "\n",
        "### **Informações:**\n",
        "\n",
        "Custo:\n",
        "\n",
        "**LamProduction** = R$2.390\n",
        "\n",
        "**TrefProduction** = R$3.100\n",
        "\n",
        "Tempo de Produção: \n",
        "\n",
        "**LamProduction** = 0.2h\n",
        "**TrefProduction** = 0.4h\n",
        "\n",
        "Tempo de REvestimento: \n",
        "\n",
        "**LamProduction** = 0.5h\n",
        "**TrefProduction** = 0.4h\n",
        "\n",
        "\n",
        "### **Variáveis ​​de decisão:**\n",
        "Número de cilindros lâminados a produzir (LamProduction)\n",
        "\n",
        "Número de cilindros Trefilados produzidos (TrefProduction)\n",
        "\n",
        "### **Objetivo:** Maximizar o lucro\n",
        "\n",
        "### **Restrições:**\n",
        "\n",
        "O **LamProduction** deve ser maior ou igual a 5000.\n",
        "\n",
        "O **TrefProduction** deve ser maior ou igual a 5000.\n",
        "\n",
        "O tempo de fabricação para **LamProduction** mais o tempo de fabricação para **TrefProduction** não deve exceder 9000 horas.\n",
        "\n",
        "O tempo de revestimento para **LamProduction** mais o tempo de revestimento para **TrefProduction** não deve exceder 5600 horas."
      ],
      "metadata": {
        "id": "-FlJpx-PkuTf"
      }
    },
    {
      "cell_type": "code",
      "source": [
        "#instalando o IBM® Decision Optimization e o CPLEX\n",
        "!pip install cplex\n",
        "!pip install docplex"
      ],
      "metadata": {
        "colab": {
          "base_uri": "https://localhost:8080/"
        },
        "id": "nvHee9oGgwbu",
        "outputId": "34b33791-2761-4509-b9ad-7cde4ddd1bdd"
      },
      "execution_count": 1,
      "outputs": [
        {
          "output_type": "stream",
          "name": "stdout",
          "text": [
            "Requirement already satisfied: cplex in /usr/local/lib/python3.7/dist-packages (20.1.0.3)\n",
            "Requirement already satisfied: docplex in /usr/local/lib/python3.7/dist-packages (2.22.213)\n",
            "Requirement already satisfied: six in /usr/local/lib/python3.7/dist-packages (from docplex) (1.15.0)\n"
          ]
        }
      ]
    },
    {
      "cell_type": "code",
      "source": [
        "# importando o modelo do docplex.mp\n",
        "from docplex.mp.model import Model\n",
        "\n",
        "# creando uma instancia com o nome:\n",
        "m = Model(name='cilindro_producao')"
      ],
      "metadata": {
        "id": "wDn692Vznp1d"
      },
      "execution_count": 2,
      "outputs": []
    },
    {
      "cell_type": "code",
      "source": [
        "# por padrão todas as variaveis do Docplex tem limite inferior 0 e superior infinito\n",
        "lam = m.continuous_var(name='lam')\n",
        "tref = m.continuous_var(name='tref')"
      ],
      "metadata": {
        "id": "mDGb6Ye2n9Az"
      },
      "execution_count": 3,
      "outputs": []
    },
    {
      "cell_type": "markdown",
      "source": [
        "## **Restrições:**"
      ],
      "metadata": {
        "id": "zfOkCrtdoYv9"
      }
    },
    {
      "cell_type": "code",
      "source": [
        "# incluindo as restrições\n",
        "# restrição #1: laminado não pode ser menor que 5000\n",
        "m.add_constraint(lam >= 6000)\n",
        "\n",
        "# restrição #2: trefilado não pode ser menor que 5000\n",
        "m.add_constraint(tref >= 5000)\n",
        "\n",
        "# restrição #3: produção tempo limite\n",
        "ct_prod = m.add_constraint( 0.2 * lam + 0.4 * tref <= 9000) #225 funcionarios trabalhando 40 horas\n",
        "\n",
        "# restrição #4: revestimento tempo limite\n",
        "ct_rev = m.add_constraint( 0.5 * lam + 0.4 * tref <= 5600) #140 funcionarios trabalhando 40 horas"
      ],
      "metadata": {
        "id": "pqXI2MdsotRg"
      },
      "execution_count": 4,
      "outputs": []
    },
    {
      "cell_type": "markdown",
      "source": [
        "### **Objetivo:**"
      ],
      "metadata": {
        "id": "KFx8XQ8fp12b"
      }
    },
    {
      "cell_type": "code",
      "source": [
        "m.maximize(2390 * lam + 3100 * tref)\n",
        "m.print_information()"
      ],
      "metadata": {
        "colab": {
          "base_uri": "https://localhost:8080/"
        },
        "id": "Ptx3ca7pp6Jc",
        "outputId": "3ac95414-8d9e-4b60-bee7-608489031257"
      },
      "execution_count": 5,
      "outputs": [
        {
          "output_type": "stream",
          "name": "stdout",
          "text": [
            "Model: cilindro_producao\n",
            " - number of variables: 2\n",
            "   - binary=0, integer=0, continuous=2\n",
            " - number of constraints: 4\n",
            "   - linear=4\n",
            " - parameters: defaults\n",
            " - objective: maximize\n",
            " - problem type is: LP\n"
          ]
        }
      ]
    },
    {
      "cell_type": "markdown",
      "source": [
        "### **Resolução do Modelo**"
      ],
      "metadata": {
        "id": "PKVH-wARqL53"
      }
    },
    {
      "cell_type": "code",
      "source": [
        "s = m.solve()\n",
        "m.print_solution()\n",
        "\n"
      ],
      "metadata": {
        "colab": {
          "base_uri": "https://localhost:8080/"
        },
        "id": "__YrMcEaqQ8c",
        "outputId": "1f117687-8abf-4ea0-9d59-1b850eb21015"
      },
      "execution_count": 6,
      "outputs": [
        {
          "output_type": "stream",
          "name": "stdout",
          "text": [
            "objective: 34490000.000\n",
            "  lam=6000.000\n",
            "  tref=6500.000\n"
          ]
        }
      ]
    },
    {
      "cell_type": "markdown",
      "source": [
        "# **Relaxando restrições**\n",
        "\n",
        "No caso dos modelos de Progrmação Linear, o termo “relaxamento” refere-se à alteração do lado direito da restrição para permitir alguma violação da restrição original.\n",
        "\n",
        "Por exemplo:\n",
        "\n",
        "No ultimo problema apresentado, ao substituimos as variaveis de decisão na restrição, vimos que a mesma atinge sua capacidade maxima. Sendo ela um gargalo para nosso problema.\n",
        "\n",
        "( 0.5 * **(5000)lam** + 0.4 * **(7750)tref** <= 5600) #140 funcionarios trabalhando 40 horas"
      ],
      "metadata": {
        "id": "usBXgq-csPGA"
      }
    },
    {
      "cell_type": "markdown",
      "source": [
        "# **Exemplo de condição de Relaxamento:**\n",
        "\n",
        "Após uma discurção, o time de planejamento estudou a possibilidade de utilizar o sistema de hora extra para aumentar a capacidade do processo de revestimento:\n",
        "\n",
        "Limite pelo Ministerio do Trabalho 10h semanais, para 140 funcionario, totalizam-se 1400h, o custo da hora extra é de R$15H. "
      ],
      "metadata": {
        "id": "J7UnuSIqw7Nk"
      }
    },
    {
      "cell_type": "markdown",
      "source": [
        "### **Hora extra pelo DOcplex**"
      ],
      "metadata": {
        "id": "z7uZeWRcy3i9"
      }
    },
    {
      "cell_type": "code",
      "source": [
        "extra = m.continuous_var(name='extra', ub=1400)"
      ],
      "metadata": {
        "id": "08vamK4pzAaY"
      },
      "execution_count": 7,
      "outputs": []
    },
    {
      "cell_type": "markdown",
      "source": [
        "**Modificando a restrição de revestimento**"
      ],
      "metadata": {
        "id": "3l_YjMPXzvZB"
      }
    },
    {
      "cell_type": "code",
      "source": [
        "ct_rev.rhs =  5600 + extra"
      ],
      "metadata": {
        "id": "w4NccOfR0VNF"
      },
      "execution_count": 8,
      "outputs": []
    },
    {
      "cell_type": "markdown",
      "source": [
        "**Incluindo a penalidade de custo da hora extra**"
      ],
      "metadata": {
        "id": "Hm5cA3wq0yrZ"
      }
    },
    {
      "cell_type": "code",
      "source": [
        "m.maximize(2390 * lam + 3100 * tref - 15 * extra)\n",
        "m.print_information()"
      ],
      "metadata": {
        "colab": {
          "base_uri": "https://localhost:8080/"
        },
        "id": "6YYp426C03Vy",
        "outputId": "b739322d-5023-4985-8c5d-814d18a871c3"
      },
      "execution_count": 9,
      "outputs": [
        {
          "output_type": "stream",
          "name": "stdout",
          "text": [
            "Model: cilindro_producao\n",
            " - number of variables: 3\n",
            "   - binary=0, integer=0, continuous=3\n",
            " - number of constraints: 4\n",
            "   - linear=4\n",
            " - parameters: defaults\n",
            " - objective: maximize\n",
            " - problem type is: LP\n"
          ]
        }
      ]
    },
    {
      "cell_type": "markdown",
      "source": [
        "**Resolvendo novamente o problema**"
      ],
      "metadata": {
        "id": "DkWhMcyR1CPr"
      }
    },
    {
      "cell_type": "code",
      "source": [
        "s2 = m.solve()\n",
        "m.print_solution()"
      ],
      "metadata": {
        "colab": {
          "base_uri": "https://localhost:8080/"
        },
        "id": "b4RZINIs1Fmk",
        "outputId": "e6c3bced-b21d-47a7-bba7-8974b70dcd64"
      },
      "execution_count": 10,
      "outputs": [
        {
          "output_type": "stream",
          "name": "stdout",
          "text": [
            "objective: 45319000.000\n",
            "  lam=6000.000\n",
            "  tref=10000.000\n",
            "  extra=1400.000\n"
          ]
        }
      ]
    }
  ]
}