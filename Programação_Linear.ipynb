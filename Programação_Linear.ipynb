{
  "nbformat": 4,
  "nbformat_minor": 0,
  "metadata": {
    "colab": {
      "name": "Programação_Linear.ipynb",
      "provenance": [],
      "include_colab_link": true
    },
    "kernelspec": {
      "name": "python3",
      "display_name": "Python 3"
    },
    "language_info": {
      "name": "python"
    }
  },
  "cells": [
    {
      "cell_type": "markdown",
      "metadata": {
        "id": "view-in-github",
        "colab_type": "text"
      },
      "source": [
        "<a href=\"https://colab.research.google.com/github/LTayrone/KMeans-Analise/blob/main/Programa%C3%A7%C3%A3o_Linear.ipynb\" target=\"_parent\"><img src=\"https://colab.research.google.com/assets/colab-badge.svg\" alt=\"Open In Colab\"/></a>"
      ]
    },
    {
      "cell_type": "markdown",
      "source": [
        "# **Resolução de problema de Programação Linear**\n",
        "\n",
        "**Autor:  Lucas Tayrone**\n",
        "\n",
        "https://www.linkedin.com/in/lucastayrone/\n",
        "\n",
        "https://github.com/ltayrone"
      ],
      "metadata": {
        "id": "j97YITDdgjoy"
      }
    },
    {
      "cell_type": "markdown",
      "source": [
        "# O que é programação linear?\n",
        "A programação linear trata da maximização (ou minimização) de uma função objetivo linear, sujeita a restrições lineares, onde todas as variáveis ​​de decisão são contínuas. Ou seja, nenhuma variável discreta é permitida. O objetivo linear e as restrições devem consistir em expressões lineares."
      ],
      "metadata": {
        "id": "idcbR3AmhFuv"
      }
    },
    {
      "cell_type": "markdown",
      "source": [
        "## **Exemplo: um problema de produção** \n",
        "\n",
        "Neste tópico, você analisará um problema de produção simples em termos de variáveis ​​de decisão, função objetivo e restrições.\n",
        "Apenas para conhecimento academico esse problema trata-se de alocação de recursos.\n",
        "\n",
        "\n",
        "### **Descrição do problema:** \n",
        "\n",
        "### **Processo de Fabricação de Carros Standard e Luxo**\n",
        "\n",
        "Uma pequena manufatura produz dois modelos, **Standard** e **Luxo**, de um certo produto. Cada unidade do\n",
        "modelo **Standard exige 1 hora de lixação** e **1 hora de polimento**. Cada unidade do modelo luxo exige **1 hora de lixação** e **4 horas de polimento**. A fábrica dispõe de **2 lixadoras** e **3 polidoras**, cada um trabalhando **40 horas**\n",
        "semanais. As margens de lucro são RS 24 e RS 34, respectivamente, para cada unidade Standard e Luxo. Não\n",
        "existem restrições de demanda para ambos os modelos.\n",
        "\n",
        "Calcular a produção semanal que maximiza a margem total de lucro do fabricante. \n",
        "\n",
        "Para chegar a um modelo descritivo, consideremos as seguintes questões:\n",
        "\n",
        "*   Quais são as variáveis ​​de decisão?\n",
        "*   Qual é o objetivo?\n",
        "*   Quais são as restrições?\n",
        "\n",
        "ANDRADE, E. L. Introdução à Pesquisa Operacional – métodos e modelos para análise de decisão. LTC editora. 2ª\n",
        "edição. 2002 "
      ],
      "metadata": {
        "id": "8gngUIz1hWKq"
      }
    },
    {
      "cell_type": "markdown",
      "source": [
        "Produção de cilindros: um modelo descritivo \n",
        "Um possível modelo descritivo do problema de produção de cilindros é o seguinte:\n",
        "\n",
        "# **Informações:**\n",
        "\n",
        "### **Variáveis ​​de decisão:**\n",
        "x1 = Carro Standard\n",
        "x2 = Carro Luxo\n",
        "\n",
        "### **Objetivo:** Maximizar o lucro\n",
        "\n",
        "Lucro Máximo = 24 * X1 + 34 * X2\n",
        "\n",
        "### **Restrições:**\n",
        "\n",
        "1 * x1 + 1 * x2 <=  80 (40h semanais * 2 lixadoras)\n",
        "\n",
        "1 * x1 + 4 * X2 <=  120 (40 h semanais * 3 Polidoras)"
      ],
      "metadata": {
        "id": "-FlJpx-PkuTf"
      }
    },
    {
      "cell_type": "code",
      "source": [
        "#instalando o IBM® Decision Optimization e o CPLEX\n",
        "!pip install cplex\n",
        "!pip install docplex"
      ],
      "metadata": {
        "colab": {
          "base_uri": "https://localhost:8080/"
        },
        "id": "nvHee9oGgwbu",
        "outputId": "e7d2b693-1938-4025-c90e-71d935eb5f36"
      },
      "execution_count": 1,
      "outputs": [
        {
          "output_type": "stream",
          "name": "stdout",
          "text": [
            "Collecting cplex\n",
            "  Downloading cplex-20.1.0.3-cp37-cp37m-manylinux1_x86_64.whl (30.9 MB)\n",
            "\u001b[K     |████████████████████████████████| 30.9 MB 543 kB/s \n",
            "\u001b[?25hInstalling collected packages: cplex\n",
            "Successfully installed cplex-20.1.0.3\n",
            "Collecting docplex\n",
            "  Downloading docplex-2.22.213.tar.gz (634 kB)\n",
            "\u001b[K     |████████████████████████████████| 634 kB 5.2 MB/s \n",
            "\u001b[?25hRequirement already satisfied: six in /usr/local/lib/python3.7/dist-packages (from docplex) (1.15.0)\n",
            "Building wheels for collected packages: docplex\n",
            "  Building wheel for docplex (setup.py) ... \u001b[?25l\u001b[?25hdone\n",
            "  Created wheel for docplex: filename=docplex-2.22.213-py3-none-any.whl size=696882 sha256=938f1465d83b9988d978ac007b41f592df692fa246872f1460a4434c34b509f8\n",
            "  Stored in directory: /root/.cache/pip/wheels/90/69/6b/1375c68a5b7ff94c40263b151c86f58bd72200bf0c465b5ba3\n",
            "Successfully built docplex\n",
            "Installing collected packages: docplex\n",
            "Successfully installed docplex-2.22.213\n"
          ]
        }
      ]
    },
    {
      "cell_type": "code",
      "source": [
        "# importando o modelo do docplex.mp\n",
        "from docplex.mp.model import Model\n",
        "\n",
        "# creando uma instancia com o nome:\n",
        "m = Model(name='carro_producao')"
      ],
      "metadata": {
        "id": "wDn692Vznp1d"
      },
      "execution_count": 2,
      "outputs": []
    },
    {
      "cell_type": "code",
      "source": [
        "# por padrão todas as variaveis do Docplex tem limite inferior 0 e superior infinito\n",
        "x1 = m.integer_var(name='Standard')\n",
        "x2 = m.integer_var(name='Luxo')"
      ],
      "metadata": {
        "id": "mDGb6Ye2n9Az"
      },
      "execution_count": 3,
      "outputs": []
    },
    {
      "cell_type": "markdown",
      "source": [
        "## **Restrições:**"
      ],
      "metadata": {
        "id": "zfOkCrtdoYv9"
      }
    },
    {
      "cell_type": "markdown",
      "source": [
        "1 * x1 + 1 8 x2 <= 80 (40h semanais * 2 lixadoras)\n",
        "\n",
        "1 * x1 + 4 * X2 <= 120 (40 h semanais * 2 Polidoras)"
      ],
      "metadata": {
        "id": "Uw1xdI_LoDBP"
      }
    },
    {
      "cell_type": "code",
      "source": [
        "# incluindo as restrições\n",
        "\n",
        "# restrição #1: Limite Lixadora\n",
        "ct_prod = m.add_constraint( 1 * x1 + 1 * x2 <= 80) # 40h semanais x 2Lixadoras\n",
        "\n",
        "# restrição #4: Limite Polidora\n",
        "ct_prod = m.add_constraint( 1 * x1 + 4 * x2 <= 120) # 40h semanais x 3 Polidoras"
      ],
      "metadata": {
        "id": "pqXI2MdsotRg"
      },
      "execution_count": 4,
      "outputs": []
    },
    {
      "cell_type": "markdown",
      "source": [
        "### **Objetivo:**"
      ],
      "metadata": {
        "id": "KFx8XQ8fp12b"
      }
    },
    {
      "cell_type": "code",
      "source": [
        "m.maximize(24 * x1 + 34 * x2)\n",
        "m.print_information()"
      ],
      "metadata": {
        "colab": {
          "base_uri": "https://localhost:8080/"
        },
        "id": "Ptx3ca7pp6Jc",
        "outputId": "d4fc8766-9a43-4b87-d48b-ff2a09af4457"
      },
      "execution_count": 5,
      "outputs": [
        {
          "output_type": "stream",
          "name": "stdout",
          "text": [
            "Model: carro_producao\n",
            " - number of variables: 2\n",
            "   - binary=0, integer=2, continuous=0\n",
            " - number of constraints: 2\n",
            "   - linear=2\n",
            " - parameters: defaults\n",
            " - objective: maximize\n",
            " - problem type is: MILP\n"
          ]
        }
      ]
    },
    {
      "cell_type": "markdown",
      "source": [
        "### **Resolução do Modelo**"
      ],
      "metadata": {
        "id": "PKVH-wARqL53"
      }
    },
    {
      "cell_type": "code",
      "source": [
        "s = m.solve()\n",
        "m.print_solution()\n",
        "\n"
      ],
      "metadata": {
        "id": "__YrMcEaqQ8c",
        "colab": {
          "base_uri": "https://localhost:8080/"
        },
        "outputId": "961cbf02-b58f-470d-eb4a-dcab96e24022"
      },
      "execution_count": 6,
      "outputs": [
        {
          "output_type": "stream",
          "name": "stdout",
          "text": [
            "objective: 2050\n",
            "  Standard=67\n",
            "  Luxo=13\n"
          ]
        }
      ]
    }
  ]
}